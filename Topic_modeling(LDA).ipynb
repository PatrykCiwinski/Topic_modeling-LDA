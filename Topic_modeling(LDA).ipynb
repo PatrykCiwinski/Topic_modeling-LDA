{
  "nbformat": 4,
  "nbformat_minor": 0,
  "metadata": {
    "colab": {
      "provenance": [],
      "mount_file_id": "1bxPjFe_A0ICWNTNZNP4IbptHD1b71Ynq",
      "authorship_tag": "ABX9TyMA748jWDr2YV3H2A3U3zim",
      "include_colab_link": true
    },
    "kernelspec": {
      "name": "python3",
      "display_name": "Python 3"
    },
    "language_info": {
      "name": "python"
    }
  },
  "cells": [
    {
      "cell_type": "markdown",
      "metadata": {
        "id": "view-in-github",
        "colab_type": "text"
      },
      "source": [
        "<a href=\"https://colab.research.google.com/github/PatrykCiwinski/Topic_modeling-LDA/blob/main/Topic_modeling(LDA).ipynb\" target=\"_parent\"><img src=\"https://colab.research.google.com/assets/colab-badge.svg\" alt=\"Open In Colab\"/></a>"
      ]
    },
    {
      "cell_type": "markdown",
      "source": [
        "#LDA"
      ],
      "metadata": {
        "id": "2XKrLXi0Yw0o"
      }
    },
    {
      "cell_type": "code",
      "source": [
        "from sklearn.feature_extraction.text import CountVectorizer\n",
        "from sklearn.decomposition import LatentDirichletAllocation\n",
        "import nltk\n",
        "from nltk.tokenize import word_tokenize, sent_tokenize\n",
        "from nltk.stem import WordNetLemmatizer\n",
        "from nltk.corpus import stopwords\n",
        "import textwrap\n",
        "import pandas as pd\n",
        "import numpy as np\n",
        "import matplotlib.pyplot as plt"
      ],
      "metadata": {
        "id": "PrZtzNbNatR2"
      },
      "execution_count": 2,
      "outputs": []
    },
    {
      "cell_type": "code",
      "source": [
        "!gdown 1iboAP6jwWe0FnhYlz97Q_62Udc2aTNp4"
      ],
      "metadata": {
        "colab": {
          "base_uri": "https://localhost:8080/"
        },
        "id": "82waVdS2ckJU",
        "outputId": "ad7761d5-0a46-47d2-abaf-f658a0f76a79"
      },
      "execution_count": 3,
      "outputs": [
        {
          "output_type": "stream",
          "name": "stdout",
          "text": [
            "Downloading...\n",
            "From: https://drive.google.com/uc?id=1iboAP6jwWe0FnhYlz97Q_62Udc2aTNp4\n",
            "To: /content/bbc_text_cls.csv\n",
            "\r  0% 0.00/5.09M [00:00<?, ?B/s]\r 10% 524k/5.09M [00:00<00:00, 4.76MB/s]\r100% 5.09M/5.09M [00:00<00:00, 24.5MB/s]\n"
          ]
        }
      ]
    },
    {
      "cell_type": "code",
      "source": [
        "df=pd.read_csv('bbc_text_cls.csv')"
      ],
      "metadata": {
        "id": "FeU6ybOCarKe"
      },
      "execution_count": 4,
      "outputs": []
    },
    {
      "cell_type": "code",
      "source": [
        "df.head()"
      ],
      "metadata": {
        "colab": {
          "base_uri": "https://localhost:8080/",
          "height": 206
        },
        "id": "beAVsL_ygFyP",
        "outputId": "1237f1c3-5bac-4553-fa25-c2bfbed6229d"
      },
      "execution_count": 5,
      "outputs": [
        {
          "output_type": "execute_result",
          "data": {
            "text/plain": [
              "                                                text    labels\n",
              "0  Ad sales boost Time Warner profit\\n\\nQuarterly...  business\n",
              "1  Dollar gains on Greenspan speech\\n\\nThe dollar...  business\n",
              "2  Yukos unit buyer faces loan claim\\n\\nThe owner...  business\n",
              "3  High fuel prices hit BA's profits\\n\\nBritish A...  business\n",
              "4  Pernod takeover talk lifts Domecq\\n\\nShares in...  business"
            ],
            "text/html": [
              "\n",
              "  <div id=\"df-49701af2-8bed-410e-b77f-33de2ddc5f20\">\n",
              "    <div class=\"colab-df-container\">\n",
              "      <div>\n",
              "<style scoped>\n",
              "    .dataframe tbody tr th:only-of-type {\n",
              "        vertical-align: middle;\n",
              "    }\n",
              "\n",
              "    .dataframe tbody tr th {\n",
              "        vertical-align: top;\n",
              "    }\n",
              "\n",
              "    .dataframe thead th {\n",
              "        text-align: right;\n",
              "    }\n",
              "</style>\n",
              "<table border=\"1\" class=\"dataframe\">\n",
              "  <thead>\n",
              "    <tr style=\"text-align: right;\">\n",
              "      <th></th>\n",
              "      <th>text</th>\n",
              "      <th>labels</th>\n",
              "    </tr>\n",
              "  </thead>\n",
              "  <tbody>\n",
              "    <tr>\n",
              "      <th>0</th>\n",
              "      <td>Ad sales boost Time Warner profit\\n\\nQuarterly...</td>\n",
              "      <td>business</td>\n",
              "    </tr>\n",
              "    <tr>\n",
              "      <th>1</th>\n",
              "      <td>Dollar gains on Greenspan speech\\n\\nThe dollar...</td>\n",
              "      <td>business</td>\n",
              "    </tr>\n",
              "    <tr>\n",
              "      <th>2</th>\n",
              "      <td>Yukos unit buyer faces loan claim\\n\\nThe owner...</td>\n",
              "      <td>business</td>\n",
              "    </tr>\n",
              "    <tr>\n",
              "      <th>3</th>\n",
              "      <td>High fuel prices hit BA's profits\\n\\nBritish A...</td>\n",
              "      <td>business</td>\n",
              "    </tr>\n",
              "    <tr>\n",
              "      <th>4</th>\n",
              "      <td>Pernod takeover talk lifts Domecq\\n\\nShares in...</td>\n",
              "      <td>business</td>\n",
              "    </tr>\n",
              "  </tbody>\n",
              "</table>\n",
              "</div>\n",
              "      <button class=\"colab-df-convert\" onclick=\"convertToInteractive('df-49701af2-8bed-410e-b77f-33de2ddc5f20')\"\n",
              "              title=\"Convert this dataframe to an interactive table.\"\n",
              "              style=\"display:none;\">\n",
              "        \n",
              "  <svg xmlns=\"http://www.w3.org/2000/svg\" height=\"24px\"viewBox=\"0 0 24 24\"\n",
              "       width=\"24px\">\n",
              "    <path d=\"M0 0h24v24H0V0z\" fill=\"none\"/>\n",
              "    <path d=\"M18.56 5.44l.94 2.06.94-2.06 2.06-.94-2.06-.94-.94-2.06-.94 2.06-2.06.94zm-11 1L8.5 8.5l.94-2.06 2.06-.94-2.06-.94L8.5 2.5l-.94 2.06-2.06.94zm10 10l.94 2.06.94-2.06 2.06-.94-2.06-.94-.94-2.06-.94 2.06-2.06.94z\"/><path d=\"M17.41 7.96l-1.37-1.37c-.4-.4-.92-.59-1.43-.59-.52 0-1.04.2-1.43.59L10.3 9.45l-7.72 7.72c-.78.78-.78 2.05 0 2.83L4 21.41c.39.39.9.59 1.41.59.51 0 1.02-.2 1.41-.59l7.78-7.78 2.81-2.81c.8-.78.8-2.07 0-2.86zM5.41 20L4 18.59l7.72-7.72 1.47 1.35L5.41 20z\"/>\n",
              "  </svg>\n",
              "      </button>\n",
              "      \n",
              "  <style>\n",
              "    .colab-df-container {\n",
              "      display:flex;\n",
              "      flex-wrap:wrap;\n",
              "      gap: 12px;\n",
              "    }\n",
              "\n",
              "    .colab-df-convert {\n",
              "      background-color: #E8F0FE;\n",
              "      border: none;\n",
              "      border-radius: 50%;\n",
              "      cursor: pointer;\n",
              "      display: none;\n",
              "      fill: #1967D2;\n",
              "      height: 32px;\n",
              "      padding: 0 0 0 0;\n",
              "      width: 32px;\n",
              "    }\n",
              "\n",
              "    .colab-df-convert:hover {\n",
              "      background-color: #E2EBFA;\n",
              "      box-shadow: 0px 1px 2px rgba(60, 64, 67, 0.3), 0px 1px 3px 1px rgba(60, 64, 67, 0.15);\n",
              "      fill: #174EA6;\n",
              "    }\n",
              "\n",
              "    [theme=dark] .colab-df-convert {\n",
              "      background-color: #3B4455;\n",
              "      fill: #D2E3FC;\n",
              "    }\n",
              "\n",
              "    [theme=dark] .colab-df-convert:hover {\n",
              "      background-color: #434B5C;\n",
              "      box-shadow: 0px 1px 3px 1px rgba(0, 0, 0, 0.15);\n",
              "      filter: drop-shadow(0px 1px 2px rgba(0, 0, 0, 0.3));\n",
              "      fill: #FFFFFF;\n",
              "    }\n",
              "  </style>\n",
              "\n",
              "      <script>\n",
              "        const buttonEl =\n",
              "          document.querySelector('#df-49701af2-8bed-410e-b77f-33de2ddc5f20 button.colab-df-convert');\n",
              "        buttonEl.style.display =\n",
              "          google.colab.kernel.accessAllowed ? 'block' : 'none';\n",
              "\n",
              "        async function convertToInteractive(key) {\n",
              "          const element = document.querySelector('#df-49701af2-8bed-410e-b77f-33de2ddc5f20');\n",
              "          const dataTable =\n",
              "            await google.colab.kernel.invokeFunction('convertToInteractive',\n",
              "                                                     [key], {});\n",
              "          if (!dataTable) return;\n",
              "\n",
              "          const docLinkHtml = 'Like what you see? Visit the ' +\n",
              "            '<a target=\"_blank\" href=https://colab.research.google.com/notebooks/data_table.ipynb>data table notebook</a>'\n",
              "            + ' to learn more about interactive tables.';\n",
              "          element.innerHTML = '';\n",
              "          dataTable['output_type'] = 'display_data';\n",
              "          await google.colab.output.renderOutput(dataTable, element);\n",
              "          const docLink = document.createElement('div');\n",
              "          docLink.innerHTML = docLinkHtml;\n",
              "          element.appendChild(docLink);\n",
              "        }\n",
              "      </script>\n",
              "    </div>\n",
              "  </div>\n",
              "  "
            ]
          },
          "metadata": {},
          "execution_count": 5
        }
      ]
    },
    {
      "cell_type": "code",
      "source": [
        "nltk.download('stopwords')"
      ],
      "metadata": {
        "colab": {
          "base_uri": "https://localhost:8080/"
        },
        "id": "m3WGUnYznud2",
        "outputId": "9da2caec-d2ba-4063-b56e-a25fe05661bd"
      },
      "execution_count": 6,
      "outputs": [
        {
          "output_type": "stream",
          "name": "stderr",
          "text": [
            "[nltk_data] Downloading package stopwords to /root/nltk_data...\n",
            "[nltk_data]   Unzipping corpora/stopwords.zip.\n"
          ]
        },
        {
          "output_type": "execute_result",
          "data": {
            "text/plain": [
              "True"
            ]
          },
          "metadata": {},
          "execution_count": 6
        }
      ]
    },
    {
      "cell_type": "code",
      "source": [
        "#stop-words\n",
        "stop_words=set(stopwords.words('english'))\n",
        "stop_words = stop_words.union({'said','would','could','told','also','one','two','mr','new','year'})"
      ],
      "metadata": {
        "id": "6PeetvjPm313"
      },
      "execution_count": 10,
      "outputs": []
    },
    {
      "cell_type": "code",
      "source": [
        "nltk.download('punkt')"
      ],
      "metadata": {
        "colab": {
          "base_uri": "https://localhost:8080/"
        },
        "id": "b3PFbApaoFRu",
        "outputId": "7687af7e-e9bc-4a1a-806f-f51c079c6b17"
      },
      "execution_count": 11,
      "outputs": [
        {
          "output_type": "stream",
          "name": "stderr",
          "text": [
            "[nltk_data] Downloading package punkt to /root/nltk_data...\n",
            "[nltk_data]   Package punkt is already up-to-date!\n"
          ]
        },
        {
          "output_type": "execute_result",
          "data": {
            "text/plain": [
              "True"
            ]
          },
          "metadata": {},
          "execution_count": 11
        }
      ]
    },
    {
      "cell_type": "code",
      "source": [
        "nltk.download('wordnet')"
      ],
      "metadata": {
        "colab": {
          "base_uri": "https://localhost:8080/"
        },
        "id": "J6TK9x3JoLlw",
        "outputId": "7d2a042b-2087-4c80-d863-7cb924180cc2"
      },
      "execution_count": 12,
      "outputs": [
        {
          "output_type": "stream",
          "name": "stderr",
          "text": [
            "[nltk_data] Downloading package wordnet to /root/nltk_data...\n"
          ]
        },
        {
          "output_type": "execute_result",
          "data": {
            "text/plain": [
              "True"
            ]
          },
          "metadata": {},
          "execution_count": 12
        }
      ]
    },
    {
      "cell_type": "code",
      "source": [
        "def clean_text(headline):\n",
        "  le=WordNetLemmatizer()\n",
        "  word_tokens=word_tokenize(headline)\n",
        "  tokens=[le.lemmatize(w) for w in word_tokens if w not in stop_words and len(w)>3]\n",
        "  cleaned_text=\" \".join(tokens)\n",
        "  return cleaned_text"
      ],
      "metadata": {
        "id": "Mwa8KX9GmhQK"
      },
      "execution_count": 13,
      "outputs": []
    },
    {
      "cell_type": "code",
      "source": [
        "df['cleaned_text']=df['text'].apply(clean_text)"
      ],
      "metadata": {
        "id": "QZ8182TuixL6"
      },
      "execution_count": 14,
      "outputs": []
    },
    {
      "cell_type": "code",
      "source": [
        "vectorizer = CountVectorizer(max_features=1000)"
      ],
      "metadata": {
        "id": "s2661TZqgF6W"
      },
      "execution_count": 15,
      "outputs": []
    },
    {
      "cell_type": "code",
      "source": [
        "X=vectorizer.fit_transform(df['cleaned_text'])"
      ],
      "metadata": {
        "id": "wCW5JsvSdcAF"
      },
      "execution_count": 16,
      "outputs": []
    },
    {
      "cell_type": "code",
      "source": [
        "no_topics=df['labels'].nunique()"
      ],
      "metadata": {
        "id": "_tSN8sGegb-q"
      },
      "execution_count": 17,
      "outputs": []
    },
    {
      "cell_type": "code",
      "source": [
        "lda=LatentDirichletAllocation(n_components=no_topics)"
      ],
      "metadata": {
        "id": "eXDFQoKndkpy"
      },
      "execution_count": 18,
      "outputs": []
    },
    {
      "cell_type": "code",
      "source": [
        "Z = lda.fit_transform(X)"
      ],
      "metadata": {
        "id": "5NIgM_wlds0J"
      },
      "execution_count": 19,
      "outputs": []
    },
    {
      "cell_type": "code",
      "source": [
        "topics = lda.components_"
      ],
      "metadata": {
        "id": "_Xv9FMv9d98G"
      },
      "execution_count": 20,
      "outputs": []
    },
    {
      "cell_type": "code",
      "source": [
        "# Print the topics with their terms\n",
        "terms = vectorizer.get_feature_names_out()\n",
        "\n",
        "for index, component in enumerate(topics):\n",
        "    zipped = zip(terms, component)\n",
        "    top_terms_key=sorted(zipped, key = lambda t: t[1], reverse=True)[:7]\n",
        "    top_terms_list=list(dict(top_terms_key).keys())\n",
        "    print(\"Topic \"+str(index+1)+\": \",top_terms_list)"
      ],
      "metadata": {
        "colab": {
          "base_uri": "https://localhost:8080/"
        },
        "id": "5b05-UpPhESK",
        "outputId": "aca49df8-fde3-4775-b36e-b92c351dda49"
      },
      "execution_count": 21,
      "outputs": [
        {
          "output_type": "stream",
          "name": "stdout",
          "text": [
            "Topic 1:  ['game', 'time', 'first', 'player', 'england', 'world', 'year']\n",
            "Topic 2:  ['film', 'best', 'award', 'music', 'show', 'star', 'year']\n",
            "Topic 3:  ['people', 'technology', 'mobile', 'phone', 'service', 'user', 'computer']\n",
            "Topic 4:  ['company', 'market', 'firm', 'bank', 'sale', 'price', 'growth']\n",
            "Topic 5:  ['government', 'labour', 'party', 'election', 'people', 'minister', 'blair']\n"
          ]
        }
      ]
    },
    {
      "cell_type": "markdown",
      "source": [
        "# We can forecast topics as follows:\n",
        "\n",
        "Topic 1:sport,\n",
        "Topic 2:entertainment,\n",
        "Topic 3:tech,\n",
        "Topic 4:business,\n",
        "Topic 5:entertainment"
      ],
      "metadata": {
        "id": "fsbgr40lr1lZ"
      }
    },
    {
      "cell_type": "code",
      "source": [
        "def wrap(x):\n",
        "  return textwrap.fill(x, replace_whitespace=False, fix_sentence_endings=True)"
      ],
      "metadata": {
        "id": "7La8_pu3kEb6"
      },
      "execution_count": 22,
      "outputs": []
    },
    {
      "cell_type": "code",
      "source": [
        "i = np.random.choice(len(df))\n",
        "z=Z[i]\n",
        "topics=np.arange(5)+1"
      ],
      "metadata": {
        "id": "BRmb99Z0xbqx"
      },
      "execution_count": 23,
      "outputs": []
    },
    {
      "cell_type": "code",
      "source": [
        "z_df = pd.DataFrame(z)\n",
        "max_value = z_df.idxmax()"
      ],
      "metadata": {
        "id": "wrML02Nv452s"
      },
      "execution_count": 24,
      "outputs": []
    },
    {
      "cell_type": "code",
      "source": [
        "max_idx = max_value.tolist()"
      ],
      "metadata": {
        "id": "ULd1Z2ZX7M2x"
      },
      "execution_count": 25,
      "outputs": []
    },
    {
      "cell_type": "code",
      "source": [
        "print(wrap(df.iloc[i]['cleaned_text']))"
      ],
      "metadata": {
        "colab": {
          "base_uri": "https://localhost:8080/"
        },
        "id": "rr5ZEPOaxFrM",
        "outputId": "88d40302-4353-42e8-e7d2-b2805a3c22ac"
      },
      "execution_count": 26,
      "outputs": [
        {
          "output_type": "stream",
          "name": "stdout",
          "text": [
            "Dems 'bold election policy Charles Kennedy voter Liberal Democrats\n",
            "offer honest choice next general election With party battling impose\n",
            "lowest tax Kennedy going looming election pledged increase taxation\n",
            "bold policy certainly ensures choice Dems With party previous pledge\n",
            "increase tax penny pound spend public service already adopted\n",
            "government switched tack promising levy modest increase amount\n",
            "earnings £100,000 allow finance series pledge They scrap student fee\n",
            "finance free long term care elderly replace council local income That\n",
            "last policy well paying others pensioner particular le Labour Tories\n",
            "attacked policy unworkable properly costed Inevitably insist need\n",
            "raise tax fund improvement service Tories claim improve service tax\n",
            "£35bn efficiency saving Labour offered £22bn saving precise proposal\n",
            "although little chance propose increase many way argument Dems others\n",
            "taxation spending echo sort argument raged Labour Tories 1980s early\n",
            "1990s unlike Tory-Labour debate belief voter ready modest increase\n",
            "well order fund improvement service That view partly endorsed recent\n",
            "poll suggesting people rather cash spent public service cut Similarly\n",
            "different tone approach asylum immigration Kennedy stressing\n",
            "politician foment artificial debate immigration attacking Michael\n",
            "Howard proposal quota Once party singing similar song immigration\n",
            "Kennedy stressing different liberal approach party Kennedy buoyant\n",
            "mood party election chance declaring Tories going significant player\n",
            "poll repeated pledge post-election deal either party election Kennedy\n",
            "went suggest re-election Labour government small majority amount\n",
            "massive vote confidence Tony Blair government That suggests leader\n",
            "belief well find powerful even pivotal position vastly different House\n",
            "Commons next election dream third party dreamed many time\n"
          ]
        }
      ]
    },
    {
      "cell_type": "code",
      "source": [
        "pred_topics = {'Topic 1':'sports',\n",
        "'Topic 2':'entertainment',\n",
        "'Topic 3':'tech',\n",
        "'Topic 4':'business',\n",
        "'Topic 5':'politics'}"
      ],
      "metadata": {
        "id": "EavFEQd4x-Ly"
      },
      "execution_count": 30,
      "outputs": []
    },
    {
      "cell_type": "code",
      "source": [
        "values = list(pred_topics.values())\n"
      ],
      "metadata": {
        "id": "4iYIx6Eo3bgW"
      },
      "execution_count": 31,
      "outputs": []
    },
    {
      "cell_type": "code",
      "source": [
        "fig,ax= plt.subplots()\n",
        "ax.barh(topics,z)\n",
        "ax.set_title(f'True label: {df.iloc[i][\"labels\"]}, pred_label {values[max_value[0]]}')"
      ],
      "metadata": {
        "colab": {
          "base_uri": "https://localhost:8080/",
          "height": 470
        },
        "id": "esGPf1CdxnT6",
        "outputId": "bf3b1895-1e64-4fef-b0bb-0cdf6786ccac"
      },
      "execution_count": 32,
      "outputs": [
        {
          "output_type": "execute_result",
          "data": {
            "text/plain": [
              "Text(0.5, 1.0, 'True label: politics, pred_label politics')"
            ]
          },
          "metadata": {},
          "execution_count": 32
        },
        {
          "output_type": "display_data",
          "data": {
            "text/plain": [
              "<Figure size 640x480 with 1 Axes>"
            ],
            "image/png": "[encoded data removed]"
          },
          "metadata": {}
        }
      ]
    },
    {
      "cell_type": "code",
      "source": [],
      "metadata": {
        "id": "laim9bTh4LW8"
      },
      "execution_count": null,
      "outputs": []
    }
  ]
}