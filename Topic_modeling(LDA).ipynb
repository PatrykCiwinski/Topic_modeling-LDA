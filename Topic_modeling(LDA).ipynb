{
  "nbformat": 4,
  "nbformat_minor": 0,
  "metadata": {
    "colab": {
      "provenance": [],
      "mount_file_id": "1bxPjFe_A0ICWNTNZNP4IbptHD1b71Ynq",
      "authorship_tag": "ABX9TyP5trVHvmC64xOcXf6jgWpN",
      "include_colab_link": true
    },
    "kernelspec": {
      "name": "python3",
      "display_name": "Python 3"
    },
    "language_info": {
      "name": "python"
    }
  },
  "cells": [
    {
      "cell_type": "markdown",
      "metadata": {
        "id": "view-in-github",
        "colab_type": "text"
      },
      "source": [
        "<a href=\"https://colab.research.google.com/github/PatrykCiwinski/Topic_modeling-LDA/blob/main/Topic_modeling(LDA).ipynb\" target=\"_parent\"><img src=\"https://colab.research.google.com/assets/colab-badge.svg\" alt=\"Open In Colab\"/></a>"
      ]
    },
    {
      "cell_type": "markdown",
      "source": [
        "#LDA"
      ],
      "metadata": {
        "id": "2XKrLXi0Yw0o"
      }
    },
    {
      "cell_type": "code",
      "source": [
        "from sklearn.feature_extraction.text import TfidfVectorizer\n",
        "from sklearn.decomposition import LatentDirichletAllocation\n",
        "import nltk\n",
        "from nltk.tokenize import word_tokenize, sent_tokenize\n",
        "from nltk.stem import WordNetLemmatizer\n",
        "from nltk.corpus import stopwords\n",
        "import textwrap\n",
        "import pandas as pd\n",
        "import numpy as np\n",
        "import matplotlib.pyplot as plt"
      ],
      "metadata": {
        "id": "PrZtzNbNatR2"
      },
      "execution_count": 3,
      "outputs": []
    },
    {
      "cell_type": "code",
      "source": [
        "!gdown 1iboAP6jwWe0FnhYlz97Q_62Udc2aTNp4"
      ],
      "metadata": {
        "colab": {
          "base_uri": "https://localhost:8080/"
        },
        "id": "82waVdS2ckJU",
        "outputId": "841ba51f-545f-4d5c-cdeb-9242e654e688"
      },
      "execution_count": 5,
      "outputs": [
        {
          "output_type": "stream",
          "name": "stdout",
          "text": [
            "Downloading...\n",
            "From: https://drive.google.com/uc?id=1iboAP6jwWe0FnhYlz97Q_62Udc2aTNp4\n",
            "To: /content/bbc_text_cls.csv\n",
            "\r  0% 0.00/5.09M [00:00<?, ?B/s]\r100% 5.09M/5.09M [00:00<00:00, 128MB/s]\n"
          ]
        }
      ]
    },
    {
      "cell_type": "code",
      "source": [
        "df=pd.read_csv('bbc_text_cls.csv')"
      ],
      "metadata": {
        "id": "FeU6ybOCarKe"
      },
      "execution_count": 6,
      "outputs": []
    },
    {
      "cell_type": "code",
      "source": [
        "nltk.download('stopwords')"
      ],
      "metadata": {
        "colab": {
          "base_uri": "https://localhost:8080/"
        },
        "id": "m3WGUnYznud2",
        "outputId": "4425c45d-4f89-4321-810b-252950231908"
      },
      "execution_count": 7,
      "outputs": [
        {
          "output_type": "stream",
          "name": "stderr",
          "text": [
            "[nltk_data] Downloading package stopwords to /root/nltk_data...\n",
            "[nltk_data]   Unzipping corpora/stopwords.zip.\n"
          ]
        },
        {
          "output_type": "execute_result",
          "data": {
            "text/plain": [
              "True"
            ]
          },
          "metadata": {},
          "execution_count": 7
        }
      ]
    },
    {
      "cell_type": "code",
      "source": [
        "#stop-words\n",
        "stop_words=set(stopwords.words('english'))"
      ],
      "metadata": {
        "id": "6PeetvjPm313"
      },
      "execution_count": 9,
      "outputs": []
    },
    {
      "cell_type": "code",
      "source": [
        "nltk.download('punkt')"
      ],
      "metadata": {
        "colab": {
          "base_uri": "https://localhost:8080/"
        },
        "id": "b3PFbApaoFRu",
        "outputId": "2d58f55f-6d31-4032-96b0-38a9b64fda1b"
      },
      "execution_count": 10,
      "outputs": [
        {
          "output_type": "stream",
          "name": "stderr",
          "text": [
            "[nltk_data] Downloading package punkt to /root/nltk_data...\n",
            "[nltk_data]   Unzipping tokenizers/punkt.zip.\n"
          ]
        },
        {
          "output_type": "execute_result",
          "data": {
            "text/plain": [
              "True"
            ]
          },
          "metadata": {},
          "execution_count": 10
        }
      ]
    },
    {
      "cell_type": "code",
      "source": [
        "nltk.download('wordnet')"
      ],
      "metadata": {
        "colab": {
          "base_uri": "https://localhost:8080/"
        },
        "id": "J6TK9x3JoLlw",
        "outputId": "41f5b3a4-31d5-4f72-f63c-62c4b885bf76"
      },
      "execution_count": 11,
      "outputs": [
        {
          "output_type": "stream",
          "name": "stderr",
          "text": [
            "[nltk_data] Downloading package wordnet to /root/nltk_data...\n"
          ]
        },
        {
          "output_type": "execute_result",
          "data": {
            "text/plain": [
              "True"
            ]
          },
          "metadata": {},
          "execution_count": 11
        }
      ]
    },
    {
      "cell_type": "code",
      "source": [
        "def clean_text(headline):\n",
        "  le=WordNetLemmatizer()\n",
        "  word_tokens=word_tokenize(headline)\n",
        "  tokens=[le.lemmatize(w) for w in word_tokens if w not in stop_words and len(w)>3]\n",
        "  cleaned_text=\" \".join(tokens)\n",
        "  return cleaned_text"
      ],
      "metadata": {
        "id": "Mwa8KX9GmhQK"
      },
      "execution_count": 12,
      "outputs": []
    },
    {
      "cell_type": "code",
      "source": [
        "df['cleaned_text']=df['text'].apply(clean_text)"
      ],
      "metadata": {
        "id": "QZ8182TuixL6"
      },
      "execution_count": 13,
      "outputs": []
    },
    {
      "cell_type": "code",
      "source": [
        "vectorizer = TfidfVectorizer(max_features=1000)"
      ],
      "metadata": {
        "id": "s2661TZqgF6W"
      },
      "execution_count": 14,
      "outputs": []
    },
    {
      "cell_type": "code",
      "source": [
        "X=vectorizer.fit_transform(df['cleaned_text'])"
      ],
      "metadata": {
        "id": "wCW5JsvSdcAF"
      },
      "execution_count": 15,
      "outputs": []
    },
    {
      "cell_type": "code",
      "source": [
        "no_topics=df['labels'].nunique()"
      ],
      "metadata": {
        "id": "_tSN8sGegb-q"
      },
      "execution_count": 16,
      "outputs": []
    },
    {
      "cell_type": "code",
      "source": [
        "lda=LatentDirichletAllocation(n_components=no_topics)"
      ],
      "metadata": {
        "id": "eXDFQoKndkpy"
      },
      "execution_count": 17,
      "outputs": []
    },
    {
      "cell_type": "code",
      "source": [
        "Z = lda.fit_transform(X)"
      ],
      "metadata": {
        "id": "5NIgM_wlds0J"
      },
      "execution_count": 18,
      "outputs": []
    },
    {
      "cell_type": "code",
      "source": [
        "topics = lda.components_"
      ],
      "metadata": {
        "id": "_Xv9FMv9d98G"
      },
      "execution_count": 19,
      "outputs": []
    },
    {
      "cell_type": "code",
      "source": [
        "# Print the topics with their terms\n",
        "terms = vectorizer.get_feature_names_out()\n",
        "\n",
        "for index, component in enumerate(topics):\n",
        "    zipped = zip(terms, component)\n",
        "    top_terms_key=sorted(zipped, key = lambda t: t[1], reverse=True)[:7]\n",
        "    top_terms_list=list(dict(top_terms_key).keys())\n",
        "    print(\"Topic \"+str(index+1)+\": \",top_terms_list)"
      ],
      "metadata": {
        "colab": {
          "base_uri": "https://localhost:8080/"
        },
        "id": "5b05-UpPhESK",
        "outputId": "b308ee67-dc0f-48c4-b896-8b7810df910a"
      },
      "execution_count": 20,
      "outputs": [
        {
          "output_type": "stream",
          "name": "stdout",
          "text": [
            "Topic 1:  ['said', 'labour', 'election', 'party', 'blair', 'government', 'would']\n",
            "Topic 2:  ['said', 'film', 'year', 'company', 'firm', 'market', 'people']\n",
            "Topic 3:  ['game', 'player', 'club', 'england', 'match', 'said', 'team']\n",
            "Topic 4:  ['mobile', 'phone', 'handset', 'camera', 'operator', 'send', 'message']\n",
            "Topic 5:  ['band', 'album', 'song', 'chart', 'music', 'search', 'rock']\n"
          ]
        }
      ]
    },
    {
      "cell_type": "markdown",
      "source": [
        "# We can forecast topics as follows:\n",
        "\n",
        "Topic 1:politics,\n",
        "Topic 2:business,\n",
        "Topic 3:sport,\n",
        "Topic 4:tech,\n",
        "Topic 5:entertainment"
      ],
      "metadata": {
        "id": "fsbgr40lr1lZ"
      }
    },
    {
      "cell_type": "code",
      "source": [
        "def wrap(x):\n",
        "  return textwrap.fill(x, replace_whitespace=False, fix_sentence_endings=True)"
      ],
      "metadata": {
        "id": "7La8_pu3kEb6"
      },
      "execution_count": 21,
      "outputs": []
    },
    {
      "cell_type": "code",
      "source": [
        "i = np.random.choice(len(df))\n",
        "z=Z[i]\n",
        "topics=np.arange(5)+1"
      ],
      "metadata": {
        "id": "BRmb99Z0xbqx"
      },
      "execution_count": 29,
      "outputs": []
    },
    {
      "cell_type": "code",
      "source": [
        "print(wrap(df.iloc[i]['cleaned_text']))"
      ],
      "metadata": {
        "colab": {
          "base_uri": "https://localhost:8080/"
        },
        "id": "rr5ZEPOaxFrM",
        "outputId": "da0e8e5f-80cf-4806-a4b4-345ef9499eac"
      },
      "execution_count": 30,
      "outputs": [
        {
          "output_type": "stream",
          "name": "stdout",
          "text": [
            "Terror power expose 'tyranny' Lord Chancellor defended government plan\n",
            "introduce control order keep foreign British terrorist suspect house\n",
            "arrest enough evidence trial Lord Falconer insists proposal equate\n",
            "police state strike balance protecting public threat terrorism\n",
            "upholding civil liberty thriller writer Frederick Forsyth tell News\n",
            "personal response move There mortal danger aimed heart Britain say\n",
            "Home Secretary Charles Clarke reaction cynical care care country much\n",
            "year alive hour month year threat aimed point British always coped\n",
            "without becoming dictatorship coped fear without becoming state based\n",
            "fear coped threat without turning country land state threat Blair\n",
            "government seek create tyranny defend al-Qaeda tyranny born August\n",
            "1938 mortal threat back scruffy little Austrian called Adolf Hitler\n",
            "week first birthday threat become reality father wore uniform five\n",
            "year After 1945 yearned peace last 1946 Winston Churchill told Baltic\n",
            "Adriatic Iron Curtain descended across Europe Behind Iron Curtain\n",
            "another genocidal psychopath another threat Josef Stalin triggered\n",
            "Cold Berlin blockade 1948 whole generation blighted threatened nuclear\n",
            "holocaust nuclear wind nuclear winter built shelter would sheltered\n",
            "nothing spent treasure weapon instead hospital took silly precaution\n",
            "Some fought marched futilely Some pretended Cold lasted year remained\n",
            "parliamentary democracy early seventy terrorism well Fatah Black\n",
            "September Brigades INLA Thirty year policeman woman soldier 3,000\n",
            "civilian dead even bomb could force become tyranny That tyrant lost\n",
            "Civil right infringed little humanly possible Evidence taken secret\n",
            "protect covert source judge no-jury court instituted jury terrorised\n",
            "Informants given immunity crime bigger battle habeas corpus right\n",
            "appeal abolished threat Islamic fundamentalism leader want destroy\n",
            "society based funded abroad sleeper fanatic inside society extremely\n",
            "hard penetrate agent prime mover easy bring trial neither without\n",
            "becoming tyranny Blair government proposes system fascism communism\n",
            "citizen arrested held without charge trial even careful consideration\n",
            "experienced judge whim political activist called government minister\n",
            "protected terror government say must become tyranny tyranny based\n",
            "citizen terror This victory defeat shot fired interesting article good\n",
            "widening participation debate suggest move step bomb bullet shatter\n",
            "peace invading foreign nation imprisoning innocent 'hunting 'shadows\n",
            "destroy evil mind hatred within heart Rather focusing upon effect\n",
            "consider cause terrorism begin bomb foreign policy compassion enhance\n",
            "democracy share freedom agree Frederick Forsyth really deal terrorism\n",
            "turning Britain fascist state What really need honesty security\n",
            "service politician evidence bring people trial probably security\n",
            "service behave like detective decided certain person guilty rake kind\n",
            "obscure flimsy evidence prove real villain get away Remember Iraq Just\n",
            "person made stupid naive decision life make terrorist overly\n",
            "'politically correct society good someone like Forsyth speak\n",
            "oppression British government past overstepping mark place like\n",
            "Ireland still democracy rare arrested without charge/trial apart\n",
            "number prisoner Belmarsh goal example .This country sign human right\n",
            "pretend apply people nothing fear innocent people defined When card\n",
            "become mandatory data collected protected Data Protection readily\n",
            "available people like GCHQ control person whose checked threat compare\n",
            "threat past year Forsyth say 3000 died year terrorism 3000 people died\n",
            "morning September 11th 2001 threat today terrorist acquire nuclear\n",
            "biological technology Kilo Semtex flatten building Kilo plutonium\n",
            "flatten city combination people perform terrorist act technology\n",
            "rapidly becoming accessible agree government probably encouraging\n",
            "degree mass-hysteria talking threat talking-down threat nothing\n",
            "unacceptable problem issue important fact general Brits politically\n",
            "apathetic time without telling government However nation gave world\n",
            "common true sense right individual liberty hope prove step somebody\n",
            "Chinese origin country used good place migrate start life Whilst life\n",
            "perfect could make better riddled tape told politically-correct\n",
            "allowed belief opinion Prime Minister spends much time meddling\n",
            "politics affair little life British Citizens home abroad Forsyth done\n",
            "good voicing opinion hope gagged letting people express view people\n",
            "right know role Inform Educate Entertain agree Terrorists intend\n",
            "spread fear reality government spread fear constant publicising\n",
            "invisible enemy dangerous must allow ride roughshod right liberty\n",
            "thing seek protect giving name safety invisible enemy terrorist\n",
            "already absolutely agree Frederick Forsyth defend terrorism existing\n",
            "law seem adequate idea terrorism demand power erroneous evidence real\n",
            "terrorist capability scant Ricin example dangerous poison weapon mass\n",
            "destruction What really worrying enthusiasm Blair government\n",
            "authoritarian reaction attempt manipulate electorate fear government\n",
            "card tracking totalitarianism matter little whether give terrorist\n",
            "demand lost precious freedom Bush Blair constantly tell seek bring\n",
            "others agree wholeheartedly Forsyth shocked ease government prepared\n",
            "wipe major portion liberty British people enjoyed century right\n",
            "deprived liberty without trial open court That go right back Magna\n",
            "Carta ordinary people spilled blood enforce right government thought\n",
            "knew best When look today Britain realise George Orwell wrong thing\n",
            "date Frederick Forsyth put beautifully government seeking introduce\n",
            "police state power home internment without trial follow pattern\n",
            "includes introduction surveillance compulsory card linking data base\n",
            "together un-British idea swear allegiance state year sleep-walking\n",
            "Wake interesting view missing crucial fact threat terrorist acquire\n",
            "weapon mass destruction WILL without fear Mutually Assured Destruction\n",
            "kept cold state tense balance These people devastating force without\n",
            "fear consequence terrorist prepared suicide bomber mean could kill\n",
            "innocent people London Underground could little stop Because terrorist\n",
            "potentially deadly come tougher response little late people outside\n",
            "London wake morning find London nuked much society left debate correct\n",
            "say Mind seem forgotten disgraceful internment policy Northern Ireland\n",
            "probably caused many idealistic misguided young Catholics join\n",
            "Administrative detention Muslims could similar effect Surely public\n",
            "would better protected security service rather alerting suspect\n",
            "terrorist placing house arrest long They place suspect terrorist\n",
            "surveillance maybe acquire sufficient evidence prosecute even better\n",
            "prevent terrorist attack usually much time Forsyth largely right wing\n",
            "view time spot There doubt terrorist organisation would like harm U.K.\n",
            "doubtful whether al-Qaeda global organisation co-ordinating rise\n",
            "surveillance camera card plan charge road tracking every vehicle time\n",
            "stuff nightmare legislation effectively mean protection removed anyone\n",
            "whim Home Secretary genuinely wonder sort world child inherit Where\n",
            "stand terrorist need attack U.K. government soon people terrorised\n",
            "could achieve bomb Forsyth expressed exactly fear reservation proposed\n",
            "legislation could verbalise Thank Forsyth seems forget killing\n",
            "Troubles occurred side religious divide carried killer side also\n",
            "forgets basic Human Rights suspended Experienced Judges greatest\n",
            "miscarriage justice time little return maximum alienation These law\n",
            "emphasis Islamic threat Forsyth wrong nature current threat longer\n",
            "armed force Soviet threat Eastern bloc terrorist kill indiscriminately\n",
            "best comparison therefore blitz 1941 time forget suspect foreign\n",
            "British routinely rounded interned duration without complaint public\n",
            "must forget likelihood attack sleeper cell fundamentalist lunatic\n",
            "major target When probability money like attack Freddie Forsyth saying\n",
            "government enough protect People like Forsyth side argument side\n",
            "opposite Labour Tony Blair agree wholeheartedly Forsyth reason country\n",
            "wonderful place live attack terrorist government perpetuation\n",
            "perceived terrorist threat 'alleged terrorist government believe\n",
            "government least highly questionable worst sinister point feel enough\n",
            "control every single person British Isles tagged monitored constantly\n",
            "freedom craftily surreptitiously whittled away government gaining\n",
            "nothing great concern everyone slightly older Forsyth therefore lived\n",
            "history police state would like think lived think attack Iraq made\n",
            "international situation worse provoked act terrorism true There\n",
            "extremely worrying parallel Britain Germany never thought would easy\n",
            "take country within Forsyth forgotten point terrorist threaten Britain\n",
            "today well aware Hitler Stalin failed result modern terrorist willing\n",
            "thing predecessor That mean civil liberty modern Britain must eroded\n",
            "counter threat always absolute last resort meet threat defeat sinister\n",
            "fanaticism today terrorist need thing little differently hope Frederic\n",
            "Forsythe comment seem well-thought-out analysis human society whole\n",
            "Britain particular resist temptation over-protect fear fear enables\n",
            "terrorist succeed terrorist come form Forsythe opening comment suggest\n",
            "reminded quote attributed Thomas Jefferson nation limit freedom name\n",
            "security neither government faced incredibly difficult task made\n",
            "policy deal well criticising policy Forsythe draw year experience\n",
            "offer alternative opinion Frederick Forsyth rhetoric absurd conclusion\n",
            "laughable distorts reality serve prejudice Labour This government seek\n",
            "balance protection democracy minimum loss civil right Frederick\n",
            "Forsyth extremist appreciate need balance rarely find agreeing Forsyth\n",
            "instance think correct rule must prevail civil liberty worth defending\n",
            "government hold 'suspects without charge trial next agree absolutely\n",
            "introducing fascist type law loose moral high ground fight terror\n",
            "democratic system perfect Churchill point better others tried\n",
            "Terrorist attack take place many reason take personal risk return\n",
            "personal freedom usually agree Forsyth spot single biggest threat face\n",
            "government dedicated acting illegally manipulating international\n",
            "national suit purpose Totalitarianism always requires outside threat\n",
            "justifying range extraordinary power leader want British government\n",
            "greater threat terrorist organisation Although principle agree\n",
            "Frederick Forsyth fails address point- al-Qaeda attack though\n",
            "obviously none seek kill maximum number people wanted limit death toll\n",
            "attack maintain support among republican movement agree Forsyth view\n",
            "believe government plan justified There reaction negative influence\n",
            "President interpretation democracy freedom us argument current WWII\n",
            "Wars liberate Iraq Afghanistan Syria Iran come leaving poor\n",
            "inheritance future generation Forsyth wonderful writer keep fiction\n",
            "belongs British Government going road Forsyth suggests Sadly comment\n",
            "make people believe governed people fast becoming tyrant instead\n",
            "genuinely committed stopping tyranny even method employed moment alien\n",
            "British people lived democracy protected Tony Blair others like mind\n",
            "Forsyth seems putting along side 'scruffy little Austrian Thomas\n",
            "Hobbes would smiling grave Labour proposition Like Labour called\n",
            "libertarian Like Labour believed promoting people best interest\n",
            "Forsythe criticises government Hobbes criticised subsequent\n",
            "philosopher arguing hand totalitarian Simply argued favour ultimate\n",
            "liberty liberty live prepared surrender liberty supreme sovereign\n",
            "protection fellow barbaric Hobbes roundly condemned posterity rightly\n",
            "hope Labour suffers treatment agree Forsyth view government approach\n",
            "totally spirit British democracy They must allowed away course\n",
            "Frederick wrong Britain winning wrong country becoming tyranny\n",
            "forgotten shoot kill torture internment without trial collusion\n",
            "loyalist death squad background somewhat similar Freddie persuaded\n",
            "agree many sentiment moral justification imposing system government\n",
            "anyone systematically depriving citizen basic individual collective\n",
            "freedom Whilst principle keeping potential terrorist house arrest\n",
            "might seem superficially attractive unfortunately also first step\n",
            "towards totalitarianism decide suspect believe faith honesty integrity\n",
            "competence intelligence service politician light event recent year\n",
            "What stop false denunciation What falsely accused lose career support\n",
            "family Will child still school smack method Nazi Germany Stalin Russia\n",
            "Ceausescu Romania list go look dark coming opinion Forsyth remark\n",
            "divided problem support imprisonment without trial believe never\n",
            "happen family people like scared history shown law like always abused\n",
            "power After today scared people power someday power scared imprisoned\n",
            "without chance justice law imprisoned whim police force shown\n",
            "deserving imprison people without trial indeterminate period better\n",
            "fighting never thought possible agree single word uttered Frederick\n",
            "Forsyth wholehearted agreement nation grave danger duped propaganda\n",
            "course also mean inherit total paranoia allow government political\n",
            "persuasion incidentally gradually insidiously impose police state well\n",
            "tried tested back door method grieve future child wonder adamant ever\n",
            "want This government much fanfare sign European Convention Human\n",
            "Rights want introduce indefinite house arrest without trial This put\n",
            "government Burma Like many respondent would usually think Forsyth\n",
            "someone whose view share instance opposing Charles Clark proposal\n",
            "house arrest agree wholeheartedly Forsyth/ agree Forsyth Just look\n",
            "fact government along invaded another sovereign country Iraq selecting\n",
            "intelligence backed case based fear fact turned different individual\n",
            "treated distorted done damage terrorist organisation could bomb become\n",
            "animal agree many way Forsyth said respected influence within world\n",
            "must seen walking walk well talking talk accuse country Zimbabwe Burma\n",
            "human right abuse locking people totally innocent hypocrisy highest\n",
            "order Forsyth link Islamic fundamentalism threat However appears\n",
            "misunderstood term Islamic fundamentalism pointed Muslim adheres true\n",
            "fundamental Qur'aan teaching last Prophet Muhammad Islamic\n",
            "Fundamentalist This person commit suicide shape form she/he kill\n",
            "innocent woman child This person self-reflective constantly try better\n",
            "her/his action good others people Forsyth label threat follow correct\n",
            "teaching Islam They arrived interpretation assumption regard action\n",
            "claim following Islam true form accept intention policy make Britain\n",
            "safer place think single example history sort thing ever made\n",
            "difference Northern Ireland internment certainly achieve anything\n",
            "bombing stop could argued achieved supply angry resentful republican\n",
            "willing take arm British Being eight year older Frederick Forsyth\n",
            "survivor Blitz London easy agree absolutely spot During bombing\n",
            "massive explosion Canary Wharf right write also left City London\n",
            "Notwithstanding attempted nearly successful assassination attempt\n",
            "Prime Minister Thatcher Brighton later occupant Downing Street\n",
            "retaliatory blitz Belfast Dublin Afghanistan Iraq Even England true\n",
            "peril 1940 apart detention wholesale derogation habeas corpus like\n",
            "latest attempt liberty including card Winston Churchill decided since\n",
            "said average Bobby beat could relied tempted take undue advantage\n",
            "citizen going lawful activity incidentally still remember card number\n",
            "Hence clear great police state power statute book resisted neutered\n",
            "What Forsyth eloquently argument except applause Well done standing\n",
            "counted tyranny\n"
          ]
        }
      ]
    },
    {
      "cell_type": "code",
      "source": [
        "fig,ax= plt.subplots()\n",
        "ax.barh(topics,z)\n",
        "ax.set_title(f'True label {df.iloc[i][\"labels\"]}')"
      ],
      "metadata": {
        "colab": {
          "base_uri": "https://localhost:8080/",
          "height": 470
        },
        "id": "esGPf1CdxnT6",
        "outputId": "34bbc0fa-eef1-4372-ef29-2f473c5c0a5f"
      },
      "execution_count": 31,
      "outputs": [
        {
          "output_type": "execute_result",
          "data": {
            "text/plain": [
              "Text(0.5, 1.0, 'True label politics')"
            ]
          },
          "metadata": {},
          "execution_count": 31
        },
        {
          "output_type": "display_data",
          "data": {
            "text/plain": [
              "<Figure size 640x480 with 1 Axes>"
            ],
            "image/png": "[encoded data removed]"
          },
          "metadata": {}
        }
      ]
    },
    {
      "cell_type": "code",
      "source": [],
      "metadata": {
        "id": "EavFEQd4x-Ly"
      },
      "execution_count": null,
      "outputs": []
    }
  ]
}